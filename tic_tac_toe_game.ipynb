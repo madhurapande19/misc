{
 "cells": [
  {
   "cell_type": "code",
   "execution_count": 103,
   "metadata": {},
   "outputs": [],
   "source": [
    "def print_board(board):\n",
    "    print(board[7]+' | '+board[8]+' | '+board[9])\n",
    "    print(board[4]+' | '+board[5]+' | '+board[6])\n",
    "    print(board[1]+' | '+board[2]+' | '+board[3])"
   ]
  },
  {
   "cell_type": "code",
   "execution_count": 104,
   "metadata": {},
   "outputs": [
    {
     "name": "stdout",
     "output_type": "stream",
     "text": [
      "O | X | X\n",
      "X | O | X\n",
      "X | X | O\n"
     ]
    }
   ],
   "source": [
    "print_board(['#','X','X','O','X','O','X','O','X','X'])"
   ]
  },
  {
   "cell_type": "code",
   "execution_count": 105,
   "metadata": {},
   "outputs": [],
   "source": [
    "def place_marker(player, pos, board,d):\n",
    "    if board[pos] == '':\n",
    "        board[pos] = d['p'+str(player)]\n",
    "        return True\n",
    "    "
   ]
  },
  {
   "cell_type": "code",
   "execution_count": 106,
   "metadata": {},
   "outputs": [],
   "source": [
    "def isGameOver(board):\n",
    "    if board[7] == board[8] == board[9]:\n",
    "        return board[7]\n",
    "    elif board[4] == board[5] == board[6]:\n",
    "        return board[4]\n",
    "    elif board[1] == board[2] == board[3]:\n",
    "        return board[1]\n",
    "    elif board[7] == board[4] == board[1]:\n",
    "        return board[7]\n",
    "    elif board[8] == board[5] == board[2]:\n",
    "        return board[8]\n",
    "    elif board[9] == board[6] == board[3]:\n",
    "        return board[9]\n",
    "    elif board[7] == board[5] == board[3]:\n",
    "        return board[7]\n",
    "    elif board[1] == board[5] == board[9]:\n",
    "        return board[1]\n",
    "    else:\n",
    "        for i in range(1,10):\n",
    "            if board[i] == '':\n",
    "                return 'NF'\n",
    "        return '#'   \n",
    "    "
   ]
  },
  {
   "cell_type": "code",
   "execution_count": 107,
   "metadata": {},
   "outputs": [],
   "source": [
    "def start_game():\n",
    "    \n",
    "    ch = 'y'\n",
    "    \n",
    "    while (ch == 'y'):\n",
    "        print('Welcome to the game of TIC-TAC-TOE')\n",
    "        print('Select O or X for Player1')\n",
    "        p1 = input().upper()\n",
    "        p2=''\n",
    "        while( p1 not in ['O','X']):\n",
    "            print('Please select a valid input')\n",
    "            p1 = input().upper()  \n",
    "        p2 = list(filter(lambda x: x != p1, ['O','X']))[0]\n",
    "        d = {'p1':p1, 'p2':p2}\n",
    "        print('\\n')\n",
    "        print('Symbol of Player1 is {}'.format(p1))\n",
    "        print('Symbol of Player2 is {}'.format(p2))\n",
    "        print_board(['#','1','2','3','4','5','6','7','8','9'])\n",
    "        board = ['','','','','','','','','','']\n",
    "    \n",
    "        turn=1\n",
    "        while(True):\n",
    "            print('Enter the board position you want to place the marker')\n",
    "            pos = int(input())\n",
    "            if place_marker(turn,pos, board, d) == True:\n",
    "                if turn == 1:\n",
    "                    turn = 2\n",
    "                else:\n",
    "                    turn = 1\n",
    "                print_board(board)\n",
    "                res = isGameOver(board) \n",
    "                print('Result is: '+res)\n",
    "                winner = [key for key,value in d.items() if value==res] \n",
    "                if len(winner)>0 and  winner[0] in ['p1','p2']:\n",
    "                    print('Winner is: '+winner[0])\n",
    "                elif res == '#':\n",
    "                    print('Tie Match')\n",
    "                \n",
    "                if res in ['O', 'X', '#']:\n",
    "                    break\n",
    "            else:\n",
    "                print('Oops this position is full, place the marker at other location')\n",
    "            \n",
    "        print('Do you want to play again, press y/n')\n",
    "        ch = input().lower()\n",
    "        "
   ]
  },
  {
   "cell_type": "code",
   "execution_count": 108,
   "metadata": {},
   "outputs": [
    {
     "name": "stdout",
     "output_type": "stream",
     "text": [
      "Welcome to the game of TIC-TAC-TOE\n",
      "Select O or X for Player1\n",
      "x\n",
      "\n",
      "\n",
      "Symbol of Player1 is X\n",
      "Symbol of Player2 is O\n",
      "7 | 8 | 9\n",
      "4 | 5 | 6\n",
      "1 | 2 | 3\n",
      "Enter the board position you want to place the marker\n",
      "7\n",
      "X |  | \n",
      " |  | \n",
      " |  | \n",
      "Result is: \n",
      "Enter the board position you want to place the marker\n",
      "2\n",
      "X |  | \n",
      " |  | \n",
      " | O | \n",
      "Result is: \n",
      "Enter the board position you want to place the marker\n",
      "5\n",
      "X |  | \n",
      " | X | \n",
      " | O | \n",
      "Result is: \n",
      "Enter the board position you want to place the marker\n",
      "1\n",
      "X |  | \n",
      " | X | \n",
      "O | O | \n",
      "Result is: \n",
      "Enter the board position you want to place the marker\n",
      "3\n",
      "X |  | \n",
      " | X | \n",
      "O | O | X\n",
      "Result is: X\n",
      "Winner is: p1\n",
      "Do you want to play again, press y/n\n",
      "n\n"
     ]
    }
   ],
   "source": [
    "start_game()\n"
   ]
  },
  {
   "cell_type": "code",
   "execution_count": null,
   "metadata": {},
   "outputs": [],
   "source": []
  },
  {
   "cell_type": "code",
   "execution_count": null,
   "metadata": {},
   "outputs": [],
   "source": []
  },
  {
   "cell_type": "code",
   "execution_count": null,
   "metadata": {},
   "outputs": [],
   "source": []
  },
  {
   "cell_type": "code",
   "execution_count": null,
   "metadata": {},
   "outputs": [],
   "source": []
  },
  {
   "cell_type": "code",
   "execution_count": null,
   "metadata": {},
   "outputs": [],
   "source": []
  },
  {
   "cell_type": "code",
   "execution_count": null,
   "metadata": {},
   "outputs": [],
   "source": []
  },
  {
   "cell_type": "code",
   "execution_count": null,
   "metadata": {},
   "outputs": [],
   "source": []
  },
  {
   "cell_type": "raw",
   "metadata": {},
   "source": []
  }
 ],
 "metadata": {
  "kernelspec": {
   "display_name": "Python 3",
   "language": "python",
   "name": "python3"
  },
  "language_info": {
   "codemirror_mode": {
    "name": "ipython",
    "version": 3
   },
   "file_extension": ".py",
   "mimetype": "text/x-python",
   "name": "python",
   "nbconvert_exporter": "python",
   "pygments_lexer": "ipython3",
   "version": "3.6.5"
  }
 },
 "nbformat": 4,
 "nbformat_minor": 2
}
